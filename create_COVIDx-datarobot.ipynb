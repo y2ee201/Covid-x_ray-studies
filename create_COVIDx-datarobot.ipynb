{
 "cells": [
  {
   "cell_type": "code",
   "execution_count": 7,
   "metadata": {},
   "outputs": [],
   "source": [
    "import numpy as np\n",
    "import pandas as pd\n",
    "import os\n",
    "import random \n",
    "from shutil import copyfile\n",
    "from tqdm import tqdm"
   ]
  },
  {
   "cell_type": "code",
   "execution_count": 2,
   "metadata": {},
   "outputs": [],
   "source": [
    "seed = 0\n",
    "np.random.seed(seed) # Reset the seed so all runs are the same.\n",
    "random.seed(seed)\n",
    "MAXVAL = 255  # Range [0 255]"
   ]
  },
  {
   "cell_type": "code",
   "execution_count": 3,
   "metadata": {},
   "outputs": [],
   "source": [
    "def get_clahe(img):\n",
    "    lab = cv2.cvtColor(img, cv2.COLOR_BGR2LAB)\n",
    "    lab_planes = cv2.split(lab)\n",
    "    clahe = cv2.createCLAHE(clipLimit=2.0, tileGridSize=(16,16))\n",
    "    lab_planes[0] = clahe.apply(lab_planes[0])\n",
    "    lab = cv2.merge(lab_planes)\n",
    "    bgr = cv2.cvtColor(lab, cv2.COLOR_LAB2BGR)\n",
    "    return bgr"
   ]
  },
  {
   "cell_type": "code",
   "execution_count": 5,
   "metadata": {
    "collapsed": true
   },
   "outputs": [
    {
     "name": "stdout",
     "output_type": "stream",
     "text": [
      "<class 'pandas.core.frame.DataFrame'>\n",
      "Int64Index: 73 entries, 0 to 125\n",
      "Data columns (total 16 columns):\n",
      " #   Column          Non-Null Count  Dtype  \n",
      "---  ------          --------------  -----  \n",
      " 0   Patientid       73 non-null     int64  \n",
      " 1   offset          56 non-null     float64\n",
      " 2   sex             67 non-null     object \n",
      " 3   age             63 non-null     float64\n",
      " 4   finding         73 non-null     object \n",
      " 5   survival        29 non-null     object \n",
      " 6   view            73 non-null     object \n",
      " 7   date            73 non-null     object \n",
      " 8   location        60 non-null     object \n",
      " 9   filename        73 non-null     object \n",
      " 10  doi             41 non-null     object \n",
      " 11   url            73 non-null     object \n",
      " 12  license         11 non-null     object \n",
      " 13  clinical notes  68 non-null     object \n",
      " 14  other notes     32 non-null     object \n",
      " 15  Unnamed: 15     0 non-null      float64\n",
      "dtypes: float64(3), int64(1), object(12)\n",
      "memory usage: 9.7+ KB\n"
     ]
    }
   ],
   "source": [
    "covid_front_df = pd.read_pickle('../covid_df.pkl')\n",
    "covid_front_df = covid_front_df[~covid_front_df.filename.isin(['kjr-21-e24-g001-l-b.jpg', \n",
    "                                                               'kjr-21-e24-g002-l-c.jpg', \n",
    "                                                               'kjr-21-e24-g003-l-b.jpg'])]\n",
    "covid_front_df.info()"
   ]
  },
  {
   "cell_type": "code",
   "execution_count": 26,
   "metadata": {},
   "outputs": [
    {
     "data": {
      "text/plain": [
       "array([ 2,  4,  6, 11, 12, 13, 14, 15, 16, 17, 18, 19, 20, 21, 22, 23, 24,\n",
       "       32, 33, 34, 35, 36, 37, 39, 40, 41, 42, 43, 44, 45, 46, 47, 48, 49,\n",
       "       50, 51, 52, 53, 54, 55, 56, 57, 58, 59, 60, 61, 62, 63, 64, 65])"
      ]
     },
     "execution_count": 26,
     "metadata": {},
     "output_type": "execute_result"
    }
   ],
   "source": [
    "covid_front_df.Patientid.unique()"
   ]
  },
  {
   "cell_type": "code",
   "execution_count": 27,
   "metadata": {},
   "outputs": [
    {
     "data": {
      "text/plain": [
       "47"
      ]
     },
     "execution_count": 27,
     "metadata": {},
     "output_type": "execute_result"
    }
   ],
   "source": [
    "train_patients = random.sample(list(covid_front_df.Patientid.unique()), 47)\n",
    "len(train_patients)"
   ]
  },
  {
   "cell_type": "code",
   "execution_count": 30,
   "metadata": {},
   "outputs": [
    {
     "data": {
      "text/plain": [
       "(68, 5)"
      ]
     },
     "execution_count": 30,
     "metadata": {},
     "output_type": "execute_result"
    }
   ],
   "source": [
    "covid_train = covid_front_df[covid_front_df.Patientid.isin(train_patients)].filename.values\n",
    "covid_test = covid_front_df[~covid_front_df.Patientid.isin(train_patients)].filename.values\n",
    "len(covid_train), len(covid_test)"
   ]
  },
  {
   "cell_type": "markdown",
   "metadata": {},
   "source": [
    "### Replicate covidx dataset"
   ]
  },
  {
   "cell_type": "code",
   "execution_count": 32,
   "metadata": {},
   "outputs": [
    {
     "name": "stderr",
     "output_type": "stream",
     "text": [
      "100%|██████████| 68/68 [00:00<00:00, 235.03it/s]\n"
     ]
    }
   ],
   "source": [
    "for filename in tqdm(covid_train):\n",
    "    # print(filename)\n",
    "    # copyfile(os.path.join(imgpath, patient[1]), os.path.join(savepath, 'test', patient[1]))\n",
    "    copyfile('../covid-chestxray-dataset-master/images/'+filename, './images_covidx/covid/'+filename)"
   ]
  },
  {
   "cell_type": "code",
   "execution_count": 11,
   "metadata": {},
   "outputs": [],
   "source": [
    "for filename in os.listdir('./chest_xray/train/NORMAL/'):\n",
    "    copyfile('./chest_xray/train/NORMAL/'+filename, './images/normal/'+filename)"
   ]
  },
  {
   "cell_type": "code",
   "execution_count": 15,
   "metadata": {},
   "outputs": [
    {
     "data": {
      "text/plain": [
       "3875"
      ]
     },
     "execution_count": 15,
     "metadata": {},
     "output_type": "execute_result"
    }
   ],
   "source": [
    "len(os.listdir('./chest_xray/train/PNEUMONIA/'))"
   ]
  },
  {
   "cell_type": "code",
   "execution_count": 16,
   "metadata": {},
   "outputs": [
    {
     "name": "stderr",
     "output_type": "stream",
     "text": [
      "100%|██████████| 3875/3875 [00:06<00:00, 555.89it/s]\n"
     ]
    }
   ],
   "source": [
    "for filename in tqdm(os.listdir('./chest_xray/train/PNEUMONIA/')):\n",
    "    # copyfile('./chest_xray/train/NORMAL/'+filename, './images/normal/'+filename)\n",
    "    # print(filename, filename.find('bacteria')!=-1)\n",
    "    if(filename.find('bacteria')!=-1):\n",
    "        copyfile('./chest_xray/train/PNEUMONIA/'+filename, './images/bacterial/'+filename)\n",
    "    else:\n",
    "        copyfile('./chest_xray/train/PNEUMONIA/'+filename, './images/viral/'+filename)"
   ]
  },
  {
   "cell_type": "markdown",
   "metadata": {},
   "source": [
    "### Covid X But Binary"
   ]
  },
  {
   "cell_type": "code",
   "execution_count": 34,
   "metadata": {},
   "outputs": [
    {
     "name": "stderr",
     "output_type": "stream",
     "text": [
      "100%|██████████| 40/40 [00:00<00:00, 132.95it/s]\n"
     ]
    }
   ],
   "source": [
    "for filename in tqdm(random.sample(os.listdir('./chest_xray/train/NORMAL/'),40)):\n",
    "    copyfile('./chest_xray/train/NORMAL/'+filename, './images_binary_covidx/non-covid/'+filename)"
   ]
  },
  {
   "cell_type": "code",
   "execution_count": 35,
   "metadata": {},
   "outputs": [
    {
     "data": {
      "text/plain": [
       "2530"
      ]
     },
     "execution_count": 35,
     "metadata": {},
     "output_type": "execute_result"
    }
   ],
   "source": [
    "bacteria_files = [filename for filename in os.listdir('./chest_xray/train/PNEUMONIA/') \\\n",
    "                  if filename.find('bacteria')!=-1]\n",
    "len(bacteria_files)"
   ]
  },
  {
   "cell_type": "code",
   "execution_count": 37,
   "metadata": {},
   "outputs": [
    {
     "name": "stderr",
     "output_type": "stream",
     "text": [
      "100%|██████████| 40/40 [00:00<00:00, 175.40it/s]\n"
     ]
    }
   ],
   "source": [
    "for filename in tqdm(random.sample(bacteria_files,40)):\n",
    "    copyfile('./chest_xray/train/PNEUMONIA/'+filename, './images_binary_covidx/non-covid/'+filename)"
   ]
  },
  {
   "cell_type": "code",
   "execution_count": 39,
   "metadata": {},
   "outputs": [
    {
     "data": {
      "text/plain": [
       "1345"
      ]
     },
     "execution_count": 39,
     "metadata": {},
     "output_type": "execute_result"
    }
   ],
   "source": [
    "viral_files = [filename for filename in os.listdir('./chest_xray/train/PNEUMONIA/') \\\n",
    "               if filename.find('bacteria')==-1]\n",
    "len(viral_files)"
   ]
  },
  {
   "cell_type": "code",
   "execution_count": 40,
   "metadata": {},
   "outputs": [
    {
     "name": "stderr",
     "output_type": "stream",
     "text": [
      "100%|██████████| 40/40 [00:00<00:00, 225.84it/s]\n"
     ]
    }
   ],
   "source": [
    "for filename in tqdm(random.sample(viral_files,40)):\n",
    "    copyfile('./chest_xray/train/PNEUMONIA/'+filename, './images_binary_covidx/non-covid/'+filename)"
   ]
  },
  {
   "cell_type": "code",
   "execution_count": 46,
   "metadata": {},
   "outputs": [
    {
     "data": {
      "text/plain": [
       "0.023006134969325152"
      ]
     },
     "execution_count": 46,
     "metadata": {},
     "output_type": "execute_result"
    }
   ],
   "source": [
    "120/len(os.listdir('./chest_xray/train/PNEUMONIA/') + os.listdir('./chest_xray/train/NORMAL/'))"
   ]
  },
  {
   "cell_type": "code",
   "execution_count": 47,
   "metadata": {},
   "outputs": [
    {
     "data": {
      "text/plain": [
       "0.007668711656441718"
      ]
     },
     "execution_count": 47,
     "metadata": {},
     "output_type": "execute_result"
    }
   ],
   "source": [
    "40/len(os.listdir('./chest_xray/train/PNEUMONIA/') + os.listdir('./chest_xray/train/NORMAL/'))"
   ]
  },
  {
   "cell_type": "code",
   "execution_count": null,
   "metadata": {},
   "outputs": [],
   "source": []
  }
 ],
 "metadata": {
  "kernelspec": {
   "display_name": "Python 3",
   "language": "python",
   "name": "python3"
  },
  "language_info": {
   "codemirror_mode": {
    "name": "ipython",
    "version": 3
   },
   "file_extension": ".py",
   "mimetype": "text/x-python",
   "name": "python",
   "nbconvert_exporter": "python",
   "pygments_lexer": "ipython3",
   "version": "3.6.10"
  }
 },
 "nbformat": 4,
 "nbformat_minor": 2
}
